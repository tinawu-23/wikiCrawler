{
 "cells": [
  {
   "cell_type": "code",
   "execution_count": 1,
   "metadata": {
    "collapsed": true
   },
   "outputs": [],
   "source": [
    "import requests\n",
    "\n",
    "from IPython.display import HTML\n",
    "from ipywidgets import interact"
   ]
  },
  {
   "cell_type": "code",
   "execution_count": 2,
   "metadata": {
    "collapsed": true
   },
   "outputs": [],
   "source": [
    "WIKIPEDIA_URL = 'http://en.wikipedia.org/w/api.php'\n",
    "\n",
    "def wikipedia(query):\n",
    "    \n",
    "    # If query is empty do nothing\n",
    "    if not query:\n",
    "        return\n",
    "    \n",
    "    # Request Wikipedia search results\n",
    "    params   = {'action': 'query', 'format': 'json', 'prop': 'links', 'titles': query}\n",
    "    response = requests.get(WIKIPEDIA_URL, params=params)\n",
    "    \n",
    "    # Check if search request was successful\n",
    "    if response.status_code != 200:\n",
    "        display(HTML('Unable to retrieve search for {}: {}'.format(query, response.text)))\n",
    "        return\n",
    "        \n",
    "\n",
    "    data = response.json()\n",
    "    \n",
    "    display(data)"
   ]
  },
  {
   "cell_type": "code",
   "execution_count": 3,
   "metadata": {},
   "outputs": [
    {
     "data": {
      "text/plain": [
       "{'continue': {'continue': '||', 'plcontinue': '240940|0|1957_NBA_draft'},\n",
       " 'query': {'pages': {'240940': {'links': [{'ns': 0, 'title': '1947 BAA draft'},\n",
       "     {'ns': 0, 'title': '1948 BAA draft'},\n",
       "     {'ns': 0, 'title': '1949 BAA draft'},\n",
       "     {'ns': 0, 'title': '1950 NBA draft'},\n",
       "     {'ns': 0, 'title': '1951 NBA draft'},\n",
       "     {'ns': 0, 'title': '1952 NBA draft'},\n",
       "     {'ns': 0, 'title': '1953 NBA draft'},\n",
       "     {'ns': 0, 'title': '1954 NBA draft'},\n",
       "     {'ns': 0, 'title': '1955 NBA draft'},\n",
       "     {'ns': 0, 'title': '1956 NBA draft'}],\n",
       "    'ns': 0,\n",
       "    'pageid': 240940,\n",
       "    'title': 'LeBron James'}}}}"
      ]
     },
     "metadata": {},
     "output_type": "display_data"
    }
   ],
   "source": [
    "wikipedia('LeBron James')"
   ]
  }
 ],
 "metadata": {
  "kernelspec": {
   "display_name": "Python 3",
   "language": "python",
   "name": "python3"
  },
  "language_info": {
   "codemirror_mode": {
    "name": "ipython",
    "version": 3
   },
   "file_extension": ".py",
   "mimetype": "text/x-python",
   "name": "python",
   "nbconvert_exporter": "python",
   "pygments_lexer": "ipython3",
   "version": "3.6.3"
  }
 },
 "nbformat": 4,
 "nbformat_minor": 2
}
